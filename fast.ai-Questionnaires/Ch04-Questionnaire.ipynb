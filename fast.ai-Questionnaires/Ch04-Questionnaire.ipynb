{
 "cells": [
  {
   "cell_type": "markdown",
   "id": "a6537883-bada-44a4-8b96-ae8ed13a0efb",
   "metadata": {},
   "source": [
    "# Questionnaire Chapter 4: Under the Hood: Training a Digit Classifier"
   ]
  },
  {
   "cell_type": "markdown",
   "id": "0a04ca48-0d67-476f-858b-d2439bc8e72c",
   "metadata": {
    "tags": []
   },
   "source": [
    "1. How can a computer recognize images? (pg. 137)\n",
    "2. Create a 3×3 tensor or array containing the numbers from 1 to 9. Double it. Select the bottom-right four numbers.\n",
    "3. What’s a metric? What’s its purpose? (pg. 145)\n",
    "4. What is Stochastic Gradient Descent? (pg. 149)\n",
    "5. What are the seven steps in SGD for machine learning? (pg. 150)\n",
    "6. What is \"loss\"? (pg. 150)\n",
    "7. What is \"backpropagation\"? (pg. 155)\n",
    "8. Why can't we always use a high learning rate? (pg. 156)\n",
    "9. Summarize gradient descent. You may want to draw a picture. (pg. 162)\n",
    "10. What is an \"activation function\"? (pg. 178, 181). If you want to learn more about activation functions, I wrote a [survey paper](https://arxiv.org/abs/2204.02921) about recently proposed activation functions for Deep Learning.\n",
    "\n",
    "### Chapter 4 – Main takeaways\n",
    "- Takeaway #1\n",
    "- Takeaway #2\n"
   ]
  },
  {
   "cell_type": "code",
   "execution_count": null,
   "id": "60dc1338-3d97-4abf-b095-4ebe36a8cb82",
   "metadata": {},
   "outputs": [],
   "source": []
  }
 ],
 "metadata": {
  "kernelspec": {
   "display_name": "Python 3 (ipykernel)",
   "language": "python",
   "name": "python3"
  },
  "language_info": {
   "codemirror_mode": {
    "name": "ipython",
    "version": 3
   },
   "file_extension": ".py",
   "mimetype": "text/x-python",
   "name": "python",
   "nbconvert_exporter": "python",
   "pygments_lexer": "ipython3",
   "version": "3.8.13"
  }
 },
 "nbformat": 4,
 "nbformat_minor": 5
}
