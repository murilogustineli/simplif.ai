{
 "cells": [
  {
   "cell_type": "markdown",
   "id": "a6537883-bada-44a4-8b96-ae8ed13a0efb",
   "metadata": {},
   "source": [
    "# Questionnaire Chapter 1: Your Deep Learning Journey"
   ]
  },
  {
   "cell_type": "markdown",
   "id": "b18a0679-d76d-4f40-938c-3a1a359b57f1",
   "metadata": {},
   "source": [
    "1. What is machine learning? (pg. 20)\n",
    "2. What is a neural network? (pg. 23)\n",
    "3. Describe the following deep learning terminology: model, weights, predictions, results, performance, and loss? (pg. 24)\n",
    "4. What are the limitations inherent to machine learning? (pg. 25)\n",
    "5. What is the difference between Classification and Regression? (pg. 28)\n",
    "6. What is a validation set? What is a test set? Why do we need them? (pg. 29, pg. 48)\n",
    "7. What is overfitting? Provide an example. (pg. 30)\n",
    "8. What is a metric? How does it differ from \"loss\"? (pg. 31)\n",
    "9. How can pretrained models help? (pg. 31)\n",
    "10. What is transfer learning? (pg. 32)\n",
    "11.\tJargon recap. (pg. 40)\n",
    "\n",
    "### Chapter 1 – Main takeaways\n",
    "- Takeaway #1\n",
    "- Takeaway #2\n"
   ]
  },
  {
   "cell_type": "code",
   "execution_count": null,
   "id": "e9204a22-7aec-4274-96f5-4134a0d14b08",
   "metadata": {},
   "outputs": [],
   "source": []
  }
 ],
 "metadata": {
  "kernelspec": {
   "display_name": "Python 3 (ipykernel)",
   "language": "python",
   "name": "python3"
  },
  "language_info": {
   "codemirror_mode": {
    "name": "ipython",
    "version": 3
   },
   "file_extension": ".py",
   "mimetype": "text/x-python",
   "name": "python",
   "nbconvert_exporter": "python",
   "pygments_lexer": "ipython3",
   "version": "3.8.13"
  }
 },
 "nbformat": 4,
 "nbformat_minor": 5
}
