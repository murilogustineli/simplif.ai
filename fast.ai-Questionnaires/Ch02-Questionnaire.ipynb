{
 "cells": [
  {
   "cell_type": "markdown",
   "id": "a6537883-bada-44a4-8b96-ae8ed13a0efb",
   "metadata": {},
   "source": [
    "# Questionnaire Chapter 2: From Model to Production"
   ]
  },
  {
   "cell_type": "markdown",
   "id": "8b1d0f39-bed7-4322-b9a8-43f69662cd2c",
   "metadata": {},
   "source": [
    "1. How is loss interpreted in a model? (pg. 76)\n",
    "2. What is the intuitive approach of doing data cleaning? (pg. 77)\n",
    "3. What are two of the biggest challenges for data scientists? (pg. 78)\n",
    "4. What’s it called when we use a model for getting predictions, instead of training? (pg. 79)\n",
    "5. Do you need a GPU to serve your model in production? Why? (pg. 83)\n",
    "6. Provide an example of where the bear classification model might work poorly in production, due to structural or style differences in the training data. (pg. 87)\n",
    "7. What are the problems out-of-domain and domain shift? (pg. 87)\n",
    "\n",
    "\n",
    "### Chapter 2 – Main takeaways\n",
    "- Takeaway #1\n",
    "- Takeaway #2\n"
   ]
  },
  {
   "cell_type": "code",
   "execution_count": null,
   "id": "99d79bee-127c-4826-aa2f-d7b7b7441f33",
   "metadata": {},
   "outputs": [],
   "source": []
  }
 ],
 "metadata": {
  "kernelspec": {
   "display_name": "Python 3 (ipykernel)",
   "language": "python",
   "name": "python3"
  },
  "language_info": {
   "codemirror_mode": {
    "name": "ipython",
    "version": 3
   },
   "file_extension": ".py",
   "mimetype": "text/x-python",
   "name": "python",
   "nbconvert_exporter": "python",
   "pygments_lexer": "ipython3",
   "version": "3.8.13"
  }
 },
 "nbformat": 4,
 "nbformat_minor": 5
}
